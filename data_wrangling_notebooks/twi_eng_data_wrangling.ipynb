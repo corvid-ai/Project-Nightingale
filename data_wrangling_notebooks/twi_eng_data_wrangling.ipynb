{
 "cells": [
  {
   "cell_type": "code",
   "execution_count": 1,
   "metadata": {},
   "outputs": [],
   "source": [
    "import pandas as pd\n"
   ]
  },
  {
   "cell_type": "code",
   "execution_count": 63,
   "metadata": {},
   "outputs": [
    {
     "data": {
      "text/html": [
       "<div>\n",
       "<style scoped>\n",
       "    .dataframe tbody tr th:only-of-type {\n",
       "        vertical-align: middle;\n",
       "    }\n",
       "\n",
       "    .dataframe tbody tr th {\n",
       "        vertical-align: top;\n",
       "    }\n",
       "\n",
       "    .dataframe thead th {\n",
       "        text-align: right;\n",
       "    }\n",
       "</style>\n",
       "<table border=\"1\" class=\"dataframe\">\n",
       "  <thead>\n",
       "    <tr style=\"text-align: right;\">\n",
       "      <th></th>\n",
       "      <th>English</th>\n",
       "      <th>Twi</th>\n",
       "    </tr>\n",
       "  </thead>\n",
       "  <tbody>\n",
       "    <tr>\n",
       "      <th>0</th>\n",
       "      <td>hello</td>\n",
       "      <td>ɛte sɛn</td>\n",
       "    </tr>\n",
       "    <tr>\n",
       "      <th>1</th>\n",
       "      <td>How are you?</td>\n",
       "      <td>wo ho tɛ sɛn?</td>\n",
       "    </tr>\n",
       "    <tr>\n",
       "      <th>2</th>\n",
       "      <td>Good Morning</td>\n",
       "      <td>Maakye</td>\n",
       "    </tr>\n",
       "    <tr>\n",
       "      <th>3</th>\n",
       "      <td>Please</td>\n",
       "      <td>Me pa wo kyew</td>\n",
       "    </tr>\n",
       "    <tr>\n",
       "      <th>4</th>\n",
       "      <td>I apologize</td>\n",
       "      <td>Kafra, wai</td>\n",
       "    </tr>\n",
       "    <tr>\n",
       "      <th>...</th>\n",
       "      <td>...</td>\n",
       "      <td>...</td>\n",
       "    </tr>\n",
       "    <tr>\n",
       "      <th>91</th>\n",
       "      <td>to understand</td>\n",
       "      <td>te aseɛ</td>\n",
       "    </tr>\n",
       "    <tr>\n",
       "      <th>92</th>\n",
       "      <td>to have</td>\n",
       "      <td>Wɔ</td>\n",
       "    </tr>\n",
       "    <tr>\n",
       "      <th>93</th>\n",
       "      <td>to finish</td>\n",
       "      <td>wie</td>\n",
       "    </tr>\n",
       "    <tr>\n",
       "      <th>94</th>\n",
       "      <td>to do/to make</td>\n",
       "      <td>yɛ</td>\n",
       "    </tr>\n",
       "    <tr>\n",
       "      <th>95</th>\n",
       "      <td>to be sick</td>\n",
       "      <td>yare</td>\n",
       "    </tr>\n",
       "  </tbody>\n",
       "</table>\n",
       "<p>96 rows × 2 columns</p>\n",
       "</div>"
      ],
      "text/plain": [
       "          English            Twi\n",
       "0           hello        ɛte sɛn\n",
       "1    How are you?  wo ho tɛ sɛn?\n",
       "2    Good Morning         Maakye\n",
       "3          Please  Me pa wo kyew\n",
       "4     I apologize     Kafra, wai\n",
       "..            ...            ...\n",
       "91  to understand        te aseɛ\n",
       "92        to have             Wɔ\n",
       "93      to finish            wie\n",
       "94  to do/to make             yɛ\n",
       "95     to be sick           yare\n",
       "\n",
       "[96 rows x 2 columns]"
      ]
     },
     "execution_count": 63,
     "metadata": {},
     "output_type": "execute_result"
    }
   ],
   "source": [
    "def eng_twi(excel_file, col_name):\n",
    "    \n",
    "    english = []\n",
    "    twi_text = []\n",
    "    df = pd.read_excel(excel_file, encoding = 'utf-8')\n",
    "    word_list = df[col_name].tolist()\n",
    "    \n",
    "    eng = word_list[1::2]\n",
    "    for eng_word in eng:\n",
    "        english.append(eng_word)\n",
    "    \n",
    "    twi = word_list[0::2]\n",
    "    for twi_word in twi:\n",
    "        twi_text.append(twi_word)\n",
    "    final_df = pd.DataFrame(columns=['English', 'Twi'])\n",
    "    final_df['English'] = english\n",
    "    final_df['Twi'] = twi_text\n",
    "    \n",
    "    final_df.to_excel('basic_words_eng_twi.xlsx')\n",
    "    return final_df\n",
    "\n",
    "eng_twi('bot.xlsx', 'Data')  "
   ]
  },
  {
   "cell_type": "markdown",
   "metadata": {},
   "source": [
    "## Data Depulication"
   ]
  },
  {
   "cell_type": "code",
   "execution_count": 1,
   "metadata": {},
   "outputs": [
    {
     "name": "stdout",
     "output_type": "stream",
     "text": [
      "True\n"
     ]
    }
   ],
   "source": [
    "def load_words():\n",
    "    with open('words_alpha.txt') as word_file:\n",
    "        valid_words = list(word_file.read().split())\n",
    "\n",
    "    return valid_words\n",
    "\n",
    "\n",
    "if __name__ == '__main__':\n",
    "    english_words = load_words()\n",
    "    # demo print\n",
    "    print('fate' in english_words)"
   ]
  },
  {
   "cell_type": "code",
   "execution_count": 51,
   "metadata": {},
   "outputs": [],
   "source": [
    "def load_words():\n",
    "    with open('common_words.txt') as word_file:\n",
    "        valid_words = list(word_file.read().split())\n",
    "\n",
    "    return valid_words\n",
    "\n",
    "common_english_words = load_words()\n"
   ]
  },
  {
   "cell_type": "code",
   "execution_count": 56,
   "metadata": {},
   "outputs": [
    {
     "data": {
      "text/plain": [
       "3000"
      ]
     },
     "execution_count": 56,
     "metadata": {},
     "output_type": "execute_result"
    }
   ],
   "source": [
    "len(common_english_words)"
   ]
  },
  {
   "cell_type": "code",
   "execution_count": 57,
   "metadata": {},
   "outputs": [],
   "source": [
    "from nltk.stem import PorterStemmer, WordNetLemmatizer, SnowballStemmer\n",
    "\n",
    "port = SnowballStemmer('english')\n",
    "stemmed_list = [port.stem(i) for i in english_words]\n",
    "snowball_stemmer = list(dict.fromkeys(stemmed_list))\n",
    "\n",
    "\n",
    "port = PorterStemmer()\n",
    "stemmed_list = [port.stem(i) for i in english_words]\n",
    "port_stemmer = list(dict.fromkeys(stemmed_list))\n",
    "\n",
    "wnl = WordNetLemmatizer()\n",
    "lemmatize_word = [wnl.lemmatize(i) for i in english_words]\n",
    "wordnet_lemmatizer = list(dict.fromkeys(lemmatize_word))\n",
    "\n",
    "wnl = WordNetLemmatizer()\n",
    "lemmatize_word = [wnl.lemmatize(i) for i in common_english_words]\n",
    "common_english_wordnet_lemmatizer = list(dict.fromkeys(lemmatize_word))"
   ]
  },
  {
   "cell_type": "code",
   "execution_count": 71,
   "metadata": {},
   "outputs": [],
   "source": [
    "import pandas as pd\n",
    "cleaned_data = pd.DataFrame(columns=['snowball_stemmer', 'port_stemmer', 'wordnet_lemmatizer', 'common_english_words'])"
   ]
  },
  {
   "cell_type": "code",
   "execution_count": 74,
   "metadata": {
    "scrolled": true
   },
   "outputs": [],
   "source": [
    "cleaned_data.loc[:, 'wordnet_lemmatizer'] = wordnet_lemmatizer + [filler]*(len(cleaned_data.index) - len(wordnet_lemmatizer))\n",
    "cleaned_data.loc[:, 'snowball_stemmer'] = snowball_stemmer + [filler]*(len(cleaned_data.index) - len(snowball_stemmer))\n",
    "cleaned_data.loc[:, 'port_stemmer'] = port_stemmer + [filler]*(len(cleaned_data.index) - len(port_stemmer))\n",
    "cleaned_data.loc[:, 'common_english_words'] = common_english_wordnet_lemmatizer + [filler]*(len(cleaned_data.index) - len(common_english_wordnet_lemmatizer))\n",
    "\n",
    "cleaned_data.to_csv('sample_words_cleaned.csv')"
   ]
  },
  {
   "cell_type": "code",
   "execution_count": 103,
   "metadata": {},
   "outputs": [],
   "source": [
    "dfx = pd.read_excel('new_words.xlsx')\n",
    "# dfx.columns\n",
    "dfx['Word'] = dfx['Word'].str.lstrip()\n",
    "new = dfx['Word'].tolist() \n",
    "wnl = WordNetLemmatizer()\n",
    "lemmatize_word = [wnl.lemmatize(i) for i in new]\n",
    "words_5000 = list(dict.fromkeys(lemmatize_word))\n",
    "len(words_5000)\n",
    "dft = pd.DataFrame(words_5000, columns= ['top_english_words']) \n",
    "dft.to_csv('top_5000_english_words.csv')"
   ]
  },
  {
   "cell_type": "markdown",
   "metadata": {},
   "source": [
    "#### Working on glosbeData"
   ]
  },
  {
   "cell_type": "code",
   "execution_count": 23,
   "metadata": {},
   "outputs": [],
   "source": [
    "str1 = \"|['Nea ɛne no bɔ abira no, ‘woyi wɔn ho kyerɛ sɛ Onyankopɔn asomfo wɔ anuonyam ne ahohora, atenka bɔne ne atenka pa mu; sɛ asisifo [sɛnea wɔn asɔretiafo kyerɛ no], nanso wɔyɛ anokwafo.’—2 Korintofo 6:4, 8.', 'Sɛ wugye Bible di a, ɛnde wugye tom sɛ abɔde amumɔyɛfo a aniwa nhu wɔn no wɔ hɔ ankasa.', 'Nanso, nokwarem no, na Anania ayi ‘eti ade no bi de asie’ ama ɔno ankasa yiyeyɛ.', 'Nokwarem no, efi bere a me papa fii mu no, eyi ne bere a edi kan a m’ani gyei paa.”—Asomafo Nnwuma 20:35.', 'Satan maa no gye dii sɛ Yehowa aka n’ahofadi ahyɛ dodo, bere a na ɛnte saa koraa.', 'Daakye, Yehowa nam agyede no so beyi adesamma nyarewa nyinaa afi hɔ; afei, daa nkwa ho bɔhyɛ no bɛba mu!', 'Bio nso, nneɛma a yenhu ho adanse a wontumi nnye ho kyim no wɔ tumi araa ma wɔka gyidi ankasa ho asɛm sɛ ɛne saa adanse no yɛ pɛ.', 'Woyɛ dɛn tumi gyina nokwasɛm a ɛyɛ sɛ dwowtwa atrɛw no ano?', 'Nanso, wonyaa nea ɛsen nea na wɔrehwɛ kwan no.', 'Biakoyɛ a ɛkɔɔ so wɔ hɔnom Adansefo no ne wɔn ahɔho no ntam no daa no adi sɛ amanaman ntam onuayɛ bi wɔ hɔ ampa.', 'Nokwasɛm ne sɛ, adaemone a ɔboapa yɛɛ ne ho sɛ Samuel no na ɔne Saul kasae.—1 Samuel 28:3-20.', 'Nanso wɔ awofo bi fam no, saa nokwasɛm yi yɛ biribi a ɛyɛ yaw ankasa.', '(Yesaia 65:17, 18, NW; 2 Petro 3:10-13) Na Petro rekyerɛ sɛ nneɛma a Yesaia kaa ho asɛm no bɛba ankasa bere a “asase foforo” no bam no.', 'Nokwasɛm a Wogyina Ano', 'So wiase a ɛte saa bɛba da bi?', 'Hindufo bi bu Brahman sɛ Onyankopɔn anaa Otumfoɔ Pumpuni a onni nipasu', 'Nokwarem no, biribiara a wɔn mma no pɛ a wɔyɛ ma wɔn no mmom na ɛbɛhaw wɔn mma no paa daakye.', 'Bere a megu so resusuw nsɛm yi ho no, asɛm paa bi sii.', 'Suban bɔne yi kata awerɛhow so na ɛboa obi ma oguan asetra yayaayaw a adwuma nnim na mpɛn pii no, atirimpɔw biara nnim no.', 'Sɛ wiase a atɛntrenee te mu ho anidaso bɛbam ankasa a, ɛsɛ sɛ adesamma dan wɔn ani hwɛ obi a obetumi ayi nneɛma a ɛde atɛnkyea ba no hɔ.', '(Mateo 22:39; 1 Petro 4:8) Nanso, ebia wunim saa nokwasɛm yi yiye: Ɛwom mpo sɛ yɛpɛ paa sɛ yɛdodɔ yɛn ho de, nanso mpɛn pii no yebu yɛn ani gu hokwan a ɛbɛma yɛadwudwo afoforo yaw ano no so.', 'Onipa botae ne sɛ ɔne ɔteasefo a ɔhyɛ anwonwade no akyi bedi nkitaho, na wahwehwɛ no, a atirimpɔw no ne sɛ ɔne honhom teasefo a ɔyɛ pɛ yi bɛyɛ biako.”—An Historian’s Approach to Religion, a Arnold Toynbee kyerɛwee.', 'Saa nneyɔeɛ yi mmienu yi nnka ho a, abɔnten so nkɛntɛnsoɔ ne abrabɔ mu haw a ɛyɛ a ɛba yɛn so no bɛtumi abrɛ yɛn hann no ase anaa ɛdum no.', 'Nsakrae bɛn na ɛbae wɔ 1920 mfe no mu?', '12 Nanso, awerɛhosɛm ne sɛ nnipa dodow no ara a ɔpepem pii a wɔka sɛ wɔyɛ Kristofo ka ho no ntumi nhu sɛ nneɛma bi a ɛkɔ so ankasa a aniwa ntumi nhu no na ɛma nsɛm atitiriw sisi wɔ asase so.']|\"\n",
    "eng1 = \"|['On the contrary, they “recommend [themselves] as God’s ministers . . . through glory and dishonor, through bad report and good report; as [according to opponents] deceivers and yet [in reality] truthful.” —2 Corinthians 6:4, 8.', 'If you believe in the Bible, then you accept the reality of invisible wicked creatures.', 'In reality, though, Ananias had “secretly held back some of the price” for his personal gain.', 'In reality, for the first time since my father’s death, I felt a deep sense of happiness.” —Acts 20:35.', 'He convinced her that Jehovah had unduly restricted her freedom, when in reality the opposite was true.', 'In the future, the gift of the ransom will bring about a complete healing of all maladies, making everlasting life a reality!', 'Moreover, the undeniable proof of unseen realities is so powerful that faith itself is said to be equivalent to that evidence.', 'How do you cope with the reality of widespread corruption?', 'However, reality surpassed their expectations.', 'The close cooperation between local Witnesses and their guests showed that an international brotherhood is a reality.', 'In reality, Saul received information from a demon who merely pretended to be Samuel. —1 Samuel 28:3-20.', 'But for some parents, this reality is simply too painful.', '(Isaiah 65:17, 18; 2 Peter 3:10-13) Peter was indicating that the features Isaiah described would actually exist when the “new earth” becomes a reality.', 'Facing Reality', 'Will such a world ever become a reality?', 'Some Hindus view Brahman as an impersonal Divine Principle or Ultimate Reality', 'In reality, it is their permissiveness that will do their children real, lasting harm.', 'As these questions raced through my mind, a horrible reality settled in.', 'This abuse serves to drown the sorrows and to help one to escape the harsh reality of a life without work and often without purpose.', 'For the hope of a just world to become a reality, mankind has to look to a source that can eradicate the causes of injustice.', '(Matthew 22:39; 1 Peter 4:8) Yet, you are probably aware of this reality: Although we fully intend to love one another, we often overlook opportunities to relieve others’ pain.', 'Man’s goal is to seek communion with the presence behind the phenomena, and to seek it with the aim of bringing his self into harmony with this absolute spiritual reality.” —An Historian’s Approach to Religion, by Arnold Toynbee.', 'Without these two essential practices, outside influences and the sometimes-harsh realities of life can dim or even extinguish your light.', 'What refinement became a reality in the 1920’s?', '12 Sadly, though, most people, including millions of professed Christians, fail to discern the invisible realities behind the momentous events occurring on earth.']|\""
   ]
  },
  {
   "cell_type": "code",
   "execution_count": 28,
   "metadata": {},
   "outputs": [
    {
     "data": {
      "text/plain": [
       "\" 'Woyɛ dɛn tumi gyina nokwasɛm a ɛyɛ sɛ dwowtwa atrɛw no ano?', 'Nanso, wonyaa nea ɛsen nea na wɔrehwɛ kwan no\""
      ]
     },
     "execution_count": 28,
     "metadata": {},
     "output_type": "execute_result"
    }
   ],
   "source": [
    "twi = str1.split(\".',\")\n",
    "eng = eng1.split(\".',\")\n",
    "twi[6]"
   ]
  },
  {
   "cell_type": "code",
   "execution_count": 29,
   "metadata": {},
   "outputs": [
    {
     "data": {
      "text/plain": [
       "\" 'How do you cope with the reality of widespread corruption?', 'However, reality surpassed their expectations\""
      ]
     },
     "execution_count": 29,
     "metadata": {},
     "output_type": "execute_result"
    }
   ],
   "source": [
    "eng[6]"
   ]
  },
  {
   "cell_type": "code",
   "execution_count": null,
   "metadata": {},
   "outputs": [],
   "source": []
  }
 ],
 "metadata": {
  "kernelspec": {
   "display_name": "python3.5",
   "language": "python",
   "name": "python3.5"
  },
  "language_info": {
   "codemirror_mode": {
    "name": "ipython",
    "version": 3
   },
   "file_extension": ".py",
   "mimetype": "text/x-python",
   "name": "python",
   "nbconvert_exporter": "python",
   "pygments_lexer": "ipython3",
   "version": "3.5.5"
  },
  "latex_envs": {
   "LaTeX_envs_menu_present": true,
   "autoclose": false,
   "autocomplete": true,
   "bibliofile": "biblio.bib",
   "cite_by": "apalike",
   "current_citInitial": 1,
   "eqLabelWithNumbers": true,
   "eqNumInitial": 1,
   "hotkeys": {
    "equation": "Ctrl-E",
    "itemize": "Ctrl-I"
   },
   "labels_anchors": false,
   "latex_user_defs": false,
   "report_style_numbering": false,
   "user_envs_cfg": false
  }
 },
 "nbformat": 4,
 "nbformat_minor": 2
}
