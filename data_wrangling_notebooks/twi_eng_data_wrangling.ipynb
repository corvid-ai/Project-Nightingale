{
 "cells": [
  {
   "cell_type": "markdown",
   "metadata": {},
   "source": [
    "# 1.  Part 1\n",
    "* The purpose of the this notebook is to provide guidance on how to un-nest the translated setences and phrases we extract from glosbe"
   ]
  },
  {
   "cell_type": "code",
   "execution_count": 67,
   "metadata": {},
   "outputs": [],
   "source": [
    "import pandas as pd\n",
    "import numpy as np"
   ]
  },
  {
   "cell_type": "markdown",
   "metadata": {},
   "source": [
    "## Read_Data\n"
   ]
  },
  {
   "cell_type": "code",
   "execution_count": 73,
   "metadata": {},
   "outputs": [
    {
     "data": {
      "text/html": [
       "<div>\n",
       "<style scoped>\n",
       "    .dataframe tbody tr th:only-of-type {\n",
       "        vertical-align: middle;\n",
       "    }\n",
       "\n",
       "    .dataframe tbody tr th {\n",
       "        vertical-align: top;\n",
       "    }\n",
       "\n",
       "    .dataframe thead th {\n",
       "        text-align: right;\n",
       "    }\n",
       "</style>\n",
       "<table border=\"1\" class=\"dataframe\">\n",
       "  <thead>\n",
       "    <tr style=\"text-align: right;\">\n",
       "      <th></th>\n",
       "      <th>english_word</th>\n",
       "      <th>twi_translation</th>\n",
       "      <th>some_english_phrases</th>\n",
       "      <th>some_twi_phrases</th>\n",
       "    </tr>\n",
       "  </thead>\n",
       "  <tbody>\n",
       "    <tr>\n",
       "      <th>0</th>\n",
       "      <td>frustration</td>\n",
       "      <td>N/F</td>\n",
       "      <td>|['Perhaps you too find yourself in a situatio...</td>\n",
       "      <td>|['Ebia na wo nso wowɔ tebea bi a ɛte sɛ nea ɛ...</td>\n",
       "    </tr>\n",
       "    <tr>\n",
       "      <th>1</th>\n",
       "      <td>experimental</td>\n",
       "      <td>N/F</td>\n",
       "      <td>|['Their leader’s opulence and the sexual expe...</td>\n",
       "      <td>|['Wɔn kannifo no ade dodowpɛ ne nna mu nkitah...</td>\n",
       "    </tr>\n",
       "    <tr>\n",
       "      <th>2</th>\n",
       "      <td>royal</td>\n",
       "      <td>N/F</td>\n",
       "      <td>|['Whether they were from the royal line or no...</td>\n",
       "      <td>|['Sɛ na wɔyɛ adehye anaa wɔnyɛ no, ntease wom...</td>\n",
       "    </tr>\n",
       "    <tr>\n",
       "      <th>3</th>\n",
       "      <td>riot</td>\n",
       "      <td>ahum</td>\n",
       "      <td>|['And he was in and out of jails for gang fig...</td>\n",
       "      <td>|['Na odii afiase akɔneaba wɔ basabasayɛfo ntɔ...</td>\n",
       "    </tr>\n",
       "    <tr>\n",
       "      <th>4</th>\n",
       "      <td>elsewhere</td>\n",
       "      <td>N/F</td>\n",
       "      <td>|['13 After hearing a talk at a circuit assemb...</td>\n",
       "      <td>|['13 Bere a onua bi ne ne nuabea tiee ɔkasa b...</td>\n",
       "    </tr>\n",
       "  </tbody>\n",
       "</table>\n",
       "</div>"
      ],
      "text/plain": [
       "   english_word twi_translation  \\\n",
       "0   frustration             N/F   \n",
       "1  experimental             N/F   \n",
       "2         royal             N/F   \n",
       "3          riot            ahum   \n",
       "4     elsewhere             N/F   \n",
       "\n",
       "                                some_english_phrases  \\\n",
       "0  |['Perhaps you too find yourself in a situatio...   \n",
       "1  |['Their leader’s opulence and the sexual expe...   \n",
       "2  |['Whether they were from the royal line or no...   \n",
       "3  |['And he was in and out of jails for gang fig...   \n",
       "4  |['13 After hearing a talk at a circuit assemb...   \n",
       "\n",
       "                                    some_twi_phrases  \n",
       "0  |['Ebia na wo nso wowɔ tebea bi a ɛte sɛ nea ɛ...  \n",
       "1  |['Wɔn kannifo no ade dodowpɛ ne nna mu nkitah...  \n",
       "2  |['Sɛ na wɔyɛ adehye anaa wɔnyɛ no, ntease wom...  \n",
       "3  |['Na odii afiase akɔneaba wɔ basabasayɛfo ntɔ...  \n",
       "4  |['13 Bere a onua bi ne ne nuabea tiee ɔkasa b...  "
      ]
     },
     "execution_count": 73,
     "metadata": {},
     "output_type": "execute_result"
    }
   ],
   "source": [
    "df = pd.read_excel(\"C:/Users/ansaj/Desktop/AI Hobbies/ML/glosbe_dictionary_words_sentences_extract.xlsx\")\n",
    "df.head()"
   ]
  },
  {
   "cell_type": "markdown",
   "metadata": {},
   "source": [
    "## Set Length of the list of list to make sure you have the corresponding translation"
   ]
  },
  {
   "cell_type": "code",
   "execution_count": 74,
   "metadata": {},
   "outputs": [],
   "source": [
    "eng = []\n",
    "twi = []\n",
    "for i, row in df.iterrows():\n",
    "    \n",
    "    twi_list = [i for i in row['some_twi_phrases'].split(\".',\")]\n",
    "    eng_list = [i for i in row['some_english_phrases'].split(\".',\")]\n",
    "    \n",
    "    checker = min([len(eng_list), len(twi_list)])\n",
    "    \n",
    "    eng.append(eng_list[0:checker])\n",
    "    twi.append(twi_list[0:checker])\n",
    "    \n",
    "df['expand_eng'] = eng\n",
    "df['expand_twi'] = twi"
   ]
  },
  {
   "cell_type": "markdown",
   "metadata": {},
   "source": [
    "## Now Un-nest the list of list "
   ]
  },
  {
   "cell_type": "code",
   "execution_count": 76,
   "metadata": {},
   "outputs": [],
   "source": [
    "def explode(df, lst_cols, fill_value=''):\n",
    "    # make sure `lst_cols` is a list\n",
    "    if lst_cols and not isinstance(lst_cols, list):\n",
    "        lst_cols = [lst_cols]\n",
    "    # all columns except `lst_cols`\n",
    "    idx_cols = df.columns.difference(lst_cols)\n",
    "\n",
    "    # calculate lengths of lists\n",
    "    lens = df[lst_cols[0]].str.len()\n",
    "\n",
    "    if (lens > 0).all():\n",
    "        # ALL lists in cells aren't empty\n",
    "        return pd.DataFrame({\n",
    "            col:np.repeat(df[col].values, df[lst_cols[0]].str.len())\n",
    "            for col in idx_cols\n",
    "        }).assign(**{col:np.concatenate(df[col].values) for col in lst_cols}) \\\n",
    "          .loc[:, df.columns]\n",
    "    else:\n",
    "        # at least one list in cells is empty\n",
    "        return pd.DataFrame({\n",
    "            col:np.repeat(df[col].values, df[lst_cols[0]].str.len())\n",
    "            for col in idx_cols\n",
    "        }).assign(**{col:np.concatenate(df[col].values) for col in lst_cols}) \\\n",
    "          .append(df.loc[lens==0, idx_cols]).fillna(fill_value) \\\n",
    "          .loc[:, df.columns]\n",
    "    \n",
    "lister = ['expand_eng','expand_twi']  # a list the columns you want to un-nest\n"
   ]
  },
  {
   "cell_type": "markdown",
   "metadata": {},
   "source": [
    "## Now Call the Function and Viola!! you have over 77000  translated sentences"
   ]
  },
  {
   "cell_type": "code",
   "execution_count": 79,
   "metadata": {},
   "outputs": [
    {
     "data": {
      "text/html": [
       "<div>\n",
       "<style scoped>\n",
       "    .dataframe tbody tr th:only-of-type {\n",
       "        vertical-align: middle;\n",
       "    }\n",
       "\n",
       "    .dataframe tbody tr th {\n",
       "        vertical-align: top;\n",
       "    }\n",
       "\n",
       "    .dataframe thead th {\n",
       "        text-align: right;\n",
       "    }\n",
       "</style>\n",
       "<table border=\"1\" class=\"dataframe\">\n",
       "  <thead>\n",
       "    <tr style=\"text-align: right;\">\n",
       "      <th></th>\n",
       "      <th>english_word</th>\n",
       "      <th>twi_translation</th>\n",
       "      <th>some_english_phrases</th>\n",
       "      <th>some_twi_phrases</th>\n",
       "      <th>expand_eng</th>\n",
       "      <th>expand_twi</th>\n",
       "    </tr>\n",
       "  </thead>\n",
       "  <tbody>\n",
       "    <tr>\n",
       "      <th>0</th>\n",
       "      <td>frustration</td>\n",
       "      <td>N/F</td>\n",
       "      <td>|['Perhaps you too find yourself in a situatio...</td>\n",
       "      <td>|['Ebia na wo nso wowɔ tebea bi a ɛte sɛ nea ɛ...</td>\n",
       "      <td>|['Perhaps you too find yourself in a situatio...</td>\n",
       "      <td>|['Ebia na wo nso wowɔ tebea bi a ɛte sɛ nea ɛ...</td>\n",
       "    </tr>\n",
       "    <tr>\n",
       "      <th>1</th>\n",
       "      <td>frustration</td>\n",
       "      <td>N/F</td>\n",
       "      <td>|['Perhaps you too find yourself in a situatio...</td>\n",
       "      <td>|['Ebia na wo nso wowɔ tebea bi a ɛte sɛ nea ɛ...</td>\n",
       "      <td>'Partway through his talks, he would begin to...</td>\n",
       "      <td>'Na ofi ase su wɔ ne kasa biara mfinimfini, e...</td>\n",
       "    </tr>\n",
       "    <tr>\n",
       "      <th>2</th>\n",
       "      <td>frustration</td>\n",
       "      <td>N/F</td>\n",
       "      <td>|['Perhaps you too find yourself in a situatio...</td>\n",
       "      <td>|['Ebia na wo nso wowɔ tebea bi a ɛte sɛ nea ɛ...</td>\n",
       "      <td>'Naturally, you will want to tell everybody y...</td>\n",
       "      <td>'Nokwarem no, wobɛpɛ sɛ woka wo suahu no kyer...</td>\n",
       "    </tr>\n",
       "    <tr>\n",
       "      <th>3</th>\n",
       "      <td>frustration</td>\n",
       "      <td>N/F</td>\n",
       "      <td>|['Perhaps you too find yourself in a situatio...</td>\n",
       "      <td>|['Ebia na wo nso wowɔ tebea bi a ɛte sɛ nea ɛ...</td>\n",
       "      <td>'As a youth, how can you avoid becoming overl...</td>\n",
       "      <td>'Woyɛ aberante anaa ababaa a, dɛn na wobɛyɛ n...</td>\n",
       "    </tr>\n",
       "    <tr>\n",
       "      <th>4</th>\n",
       "      <td>frustration</td>\n",
       "      <td>N/F</td>\n",
       "      <td>|['Perhaps you too find yourself in a situatio...</td>\n",
       "      <td>|['Ebia na wo nso wowɔ tebea bi a ɛte sɛ nea ɛ...</td>\n",
       "      <td>'Little wonder that poverty often brings feel...</td>\n",
       "      <td>'Ɛnyɛ nwonwa sɛ mpɛn pii no, ohia de adwenemh...</td>\n",
       "    </tr>\n",
       "    <tr>\n",
       "      <th>...</th>\n",
       "      <td>...</td>\n",
       "      <td>...</td>\n",
       "      <td>...</td>\n",
       "      <td>...</td>\n",
       "      <td>...</td>\n",
       "      <td>...</td>\n",
       "    </tr>\n",
       "    <tr>\n",
       "      <th>77239</th>\n",
       "      <td>advise</td>\n",
       "      <td>N/F</td>\n",
       "      <td>|['“Pass on over from here and go into Judea,”...</td>\n",
       "      <td>|['Wɔka kyerɛɛ Yesu sɛ: “Fi ha kɔ Yudea.”', 'A...</td>\n",
       "      <td>'Says British lecturer in criminology and lon...</td>\n",
       "      <td>'Britania nsɛmmɔnedi ho nimdeɛ ho ɔdekyerɛfo ...</td>\n",
       "    </tr>\n",
       "    <tr>\n",
       "      <th>77240</th>\n",
       "      <td>advise</td>\n",
       "      <td>N/F</td>\n",
       "      <td>|['“Pass on over from here and go into Judea,”...</td>\n",
       "      <td>|['Wɔka kyerɛɛ Yesu sɛ: “Fi ha kɔ Yudea.”', 'A...</td>\n",
       "      <td>'One man who cared for a sick relative advise...</td>\n",
       "      <td>'Ɔbarima bi a na ɔhwɛ ne busuani bi a ɔyare n...</td>\n",
       "    </tr>\n",
       "    <tr>\n",
       "      <th>77241</th>\n",
       "      <td>advise</td>\n",
       "      <td>N/F</td>\n",
       "      <td>|['“Pass on over from here and go into Judea,”...</td>\n",
       "      <td>|['Wɔka kyerɛɛ Yesu sɛ: “Fi ha kɔ Yudea.”', 'A...</td>\n",
       "      <td>'Plans fail when there is no consultation, bu...</td>\n",
       "      <td>'Na afotufo a wɔka amrado no ho no bɛboa no m...</td>\n",
       "    </tr>\n",
       "    <tr>\n",
       "      <th>77242</th>\n",
       "      <td>advise</td>\n",
       "      <td>N/F</td>\n",
       "      <td>|['“Pass on over from here and go into Judea,”...</td>\n",
       "      <td>|['Wɔka kyerɛɛ Yesu sɛ: “Fi ha kɔ Yudea.”', 'A...</td>\n",
       "      <td>'The governor, assisted by advisers, would he...</td>\n",
       "      <td>'Na sɛ ebia agyina yi anaa adwuma yi fi nnipa...</td>\n",
       "    </tr>\n",
       "    <tr>\n",
       "      <th>77243</th>\n",
       "      <td>advise</td>\n",
       "      <td>N/F</td>\n",
       "      <td>|['“Pass on over from here and go into Judea,”...</td>\n",
       "      <td>|['Wɔka kyerɛɛ Yesu sɛ: “Fi ha kɔ Yudea.”', 'A...</td>\n",
       "      <td>'Yet, after examining evidence against early ...</td>\n",
       "      <td>'Nanso, atumfoɔ no ne wɔn som ho afotufo no a...</td>\n",
       "    </tr>\n",
       "  </tbody>\n",
       "</table>\n",
       "<p>77244 rows × 6 columns</p>\n",
       "</div>"
      ],
      "text/plain": [
       "      english_word twi_translation  \\\n",
       "0      frustration             N/F   \n",
       "1      frustration             N/F   \n",
       "2      frustration             N/F   \n",
       "3      frustration             N/F   \n",
       "4      frustration             N/F   \n",
       "...            ...             ...   \n",
       "77239       advise             N/F   \n",
       "77240       advise             N/F   \n",
       "77241       advise             N/F   \n",
       "77242       advise             N/F   \n",
       "77243       advise             N/F   \n",
       "\n",
       "                                    some_english_phrases  \\\n",
       "0      |['Perhaps you too find yourself in a situatio...   \n",
       "1      |['Perhaps you too find yourself in a situatio...   \n",
       "2      |['Perhaps you too find yourself in a situatio...   \n",
       "3      |['Perhaps you too find yourself in a situatio...   \n",
       "4      |['Perhaps you too find yourself in a situatio...   \n",
       "...                                                  ...   \n",
       "77239  |['“Pass on over from here and go into Judea,”...   \n",
       "77240  |['“Pass on over from here and go into Judea,”...   \n",
       "77241  |['“Pass on over from here and go into Judea,”...   \n",
       "77242  |['“Pass on over from here and go into Judea,”...   \n",
       "77243  |['“Pass on over from here and go into Judea,”...   \n",
       "\n",
       "                                        some_twi_phrases  \\\n",
       "0      |['Ebia na wo nso wowɔ tebea bi a ɛte sɛ nea ɛ...   \n",
       "1      |['Ebia na wo nso wowɔ tebea bi a ɛte sɛ nea ɛ...   \n",
       "2      |['Ebia na wo nso wowɔ tebea bi a ɛte sɛ nea ɛ...   \n",
       "3      |['Ebia na wo nso wowɔ tebea bi a ɛte sɛ nea ɛ...   \n",
       "4      |['Ebia na wo nso wowɔ tebea bi a ɛte sɛ nea ɛ...   \n",
       "...                                                  ...   \n",
       "77239  |['Wɔka kyerɛɛ Yesu sɛ: “Fi ha kɔ Yudea.”', 'A...   \n",
       "77240  |['Wɔka kyerɛɛ Yesu sɛ: “Fi ha kɔ Yudea.”', 'A...   \n",
       "77241  |['Wɔka kyerɛɛ Yesu sɛ: “Fi ha kɔ Yudea.”', 'A...   \n",
       "77242  |['Wɔka kyerɛɛ Yesu sɛ: “Fi ha kɔ Yudea.”', 'A...   \n",
       "77243  |['Wɔka kyerɛɛ Yesu sɛ: “Fi ha kɔ Yudea.”', 'A...   \n",
       "\n",
       "                                              expand_eng  \\\n",
       "0      |['Perhaps you too find yourself in a situatio...   \n",
       "1       'Partway through his talks, he would begin to...   \n",
       "2       'Naturally, you will want to tell everybody y...   \n",
       "3       'As a youth, how can you avoid becoming overl...   \n",
       "4       'Little wonder that poverty often brings feel...   \n",
       "...                                                  ...   \n",
       "77239   'Says British lecturer in criminology and lon...   \n",
       "77240   'One man who cared for a sick relative advise...   \n",
       "77241   'Plans fail when there is no consultation, bu...   \n",
       "77242   'The governor, assisted by advisers, would he...   \n",
       "77243   'Yet, after examining evidence against early ...   \n",
       "\n",
       "                                              expand_twi  \n",
       "0      |['Ebia na wo nso wowɔ tebea bi a ɛte sɛ nea ɛ...  \n",
       "1       'Na ofi ase su wɔ ne kasa biara mfinimfini, e...  \n",
       "2       'Nokwarem no, wobɛpɛ sɛ woka wo suahu no kyer...  \n",
       "3       'Woyɛ aberante anaa ababaa a, dɛn na wobɛyɛ n...  \n",
       "4       'Ɛnyɛ nwonwa sɛ mpɛn pii no, ohia de adwenemh...  \n",
       "...                                                  ...  \n",
       "77239   'Britania nsɛmmɔnedi ho nimdeɛ ho ɔdekyerɛfo ...  \n",
       "77240   'Ɔbarima bi a na ɔhwɛ ne busuani bi a ɔyare n...  \n",
       "77241   'Na afotufo a wɔka amrado no ho no bɛboa no m...  \n",
       "77242   'Na sɛ ebia agyina yi anaa adwuma yi fi nnipa...  \n",
       "77243   'Nanso, atumfoɔ no ne wɔn som ho afotufo no a...  \n",
       "\n",
       "[77244 rows x 6 columns]"
      ]
     },
     "execution_count": 79,
     "metadata": {},
     "output_type": "execute_result"
    }
   ],
   "source": [
    "explode(df, lst_cols=list(lister))"
   ]
  },
  {
   "cell_type": "markdown",
   "metadata": {
    "heading_collapsed": true
   },
   "source": [
    "# 2. Part Two: is just some random wrangling on stemming and lematization I used to obtain the 5000 commonly used english words"
   ]
  },
  {
   "cell_type": "code",
   "execution_count": null,
   "metadata": {
    "hidden": true
   },
   "outputs": [],
   "source": [
    "def eng_twi(excel_file, col_name):\n",
    "    \n",
    "    english = []\n",
    "    twi_text = []\n",
    "    df = pd.read_excel(excel_file, encoding = 'utf-8')\n",
    "    word_list = df[col_name].tolist()\n",
    "    \n",
    "    eng = word_list[1::2]\n",
    "    for eng_word in eng:\n",
    "        english.append(eng_word)\n",
    "    \n",
    "    twi = word_list[0::2]\n",
    "    for twi_word in twi:\n",
    "        twi_text.append(twi_word)\n",
    "    final_df = pd.DataFrame(columns=['English', 'Twi'])\n",
    "    final_df['English'] = english\n",
    "    final_df['Twi'] = twi_text\n",
    "    \n",
    "    final_df.to_excel('basic_words_eng_twi.xlsx')\n",
    "    return final_df\n",
    "\n",
    "eng_twi('bot.xlsx', 'Data')  "
   ]
  },
  {
   "cell_type": "markdown",
   "metadata": {
    "hidden": true
   },
   "source": [
    "## Data Depulication"
   ]
  },
  {
   "cell_type": "code",
   "execution_count": null,
   "metadata": {
    "hidden": true
   },
   "outputs": [],
   "source": [
    "def load_words():\n",
    "    with open('words_alpha.txt') as word_file:\n",
    "        valid_words = list(word_file.read().split())\n",
    "\n",
    "    return valid_words\n",
    "\n",
    "\n",
    "if __name__ == '__main__':\n",
    "    english_words = load_words()\n",
    "    # demo print\n",
    "    print('fate' in english_words)"
   ]
  },
  {
   "cell_type": "code",
   "execution_count": null,
   "metadata": {
    "hidden": true
   },
   "outputs": [],
   "source": [
    "def load_words():\n",
    "    with open('common_words.txt') as word_file:\n",
    "        valid_words = list(word_file.read().split())\n",
    "\n",
    "    return valid_words\n",
    "\n",
    "common_english_words = load_words()\n"
   ]
  },
  {
   "cell_type": "code",
   "execution_count": null,
   "metadata": {
    "hidden": true
   },
   "outputs": [],
   "source": [
    "len(common_english_words)"
   ]
  },
  {
   "cell_type": "code",
   "execution_count": null,
   "metadata": {
    "hidden": true
   },
   "outputs": [],
   "source": [
    "from nltk.stem import PorterStemmer, WordNetLemmatizer, SnowballStemmer\n",
    "\n",
    "port = SnowballStemmer('english')\n",
    "stemmed_list = [port.stem(i) for i in english_words]\n",
    "snowball_stemmer = list(dict.fromkeys(stemmed_list))\n",
    "\n",
    "\n",
    "port = PorterStemmer()\n",
    "stemmed_list = [port.stem(i) for i in english_words]\n",
    "port_stemmer = list(dict.fromkeys(stemmed_list))\n",
    "\n",
    "wnl = WordNetLemmatizer()\n",
    "lemmatize_word = [wnl.lemmatize(i) for i in english_words]\n",
    "wordnet_lemmatizer = list(dict.fromkeys(lemmatize_word))\n",
    "\n",
    "wnl = WordNetLemmatizer()\n",
    "lemmatize_word = [wnl.lemmatize(i) for i in common_english_words]\n",
    "common_english_wordnet_lemmatizer = list(dict.fromkeys(lemmatize_word))"
   ]
  },
  {
   "cell_type": "code",
   "execution_count": null,
   "metadata": {
    "hidden": true
   },
   "outputs": [],
   "source": [
    "import pandas as pd\n",
    "cleaned_data = pd.DataFrame(columns=['snowball_stemmer', 'port_stemmer', 'wordnet_lemmatizer', 'common_english_words'])"
   ]
  },
  {
   "cell_type": "code",
   "execution_count": null,
   "metadata": {
    "hidden": true,
    "scrolled": true
   },
   "outputs": [],
   "source": [
    "cleaned_data.loc[:, 'wordnet_lemmatizer'] = wordnet_lemmatizer + [filler]*(len(cleaned_data.index) - len(wordnet_lemmatizer))\n",
    "cleaned_data.loc[:, 'snowball_stemmer'] = snowball_stemmer + [filler]*(len(cleaned_data.index) - len(snowball_stemmer))\n",
    "cleaned_data.loc[:, 'port_stemmer'] = port_stemmer + [filler]*(len(cleaned_data.index) - len(port_stemmer))\n",
    "cleaned_data.loc[:, 'common_english_words'] = common_english_wordnet_lemmatizer + [filler]*(len(cleaned_data.index) - len(common_english_wordnet_lemmatizer))\n",
    "\n",
    "cleaned_data.to_csv('sample_words_cleaned.csv')"
   ]
  },
  {
   "cell_type": "code",
   "execution_count": null,
   "metadata": {
    "hidden": true
   },
   "outputs": [],
   "source": [
    "dfx = pd.read_excel('new_words.xlsx')\n",
    "# dfx.columns\n",
    "dfx['Word'] = dfx['Word'].str.lstrip()\n",
    "new = dfx['Word'].tolist() \n",
    "wnl = WordNetLemmatizer()\n",
    "lemmatize_word = [wnl.lemmatize(i) for i in new]\n",
    "words_5000 = list(dict.fromkeys(lemmatize_word))\n",
    "len(words_5000)\n",
    "dft = pd.DataFrame(words_5000, columns= ['top_english_words']) \n",
    "dft.to_csv('top_5000_english_words.csv')"
   ]
  },
  {
   "cell_type": "markdown",
   "metadata": {
    "hidden": true
   },
   "source": [
    "#### Working on glosbeData"
   ]
  }
 ],
 "metadata": {
  "kernelspec": {
   "display_name": "python 3.6",
   "language": "python",
   "name": "python3"
  },
  "language_info": {
   "codemirror_mode": {
    "name": "ipython",
    "version": 3
   },
   "file_extension": ".py",
   "mimetype": "text/x-python",
   "name": "python",
   "nbconvert_exporter": "python",
   "pygments_lexer": "ipython3",
   "version": "3.6.5"
  },
  "latex_envs": {
   "LaTeX_envs_menu_present": true,
   "autoclose": false,
   "autocomplete": true,
   "bibliofile": "biblio.bib",
   "cite_by": "apalike",
   "current_citInitial": 1,
   "eqLabelWithNumbers": true,
   "eqNumInitial": 1,
   "hotkeys": {
    "equation": "Ctrl-E",
    "itemize": "Ctrl-I"
   },
   "labels_anchors": false,
   "latex_user_defs": false,
   "report_style_numbering": false,
   "user_envs_cfg": false
  }
 },
 "nbformat": 4,
 "nbformat_minor": 2
}
